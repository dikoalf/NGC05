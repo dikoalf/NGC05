{
 "cells": [
  {
   "cell_type": "code",
   "execution_count": null,
   "metadata": {},
   "outputs": [],
   "source": [
    "'''\n",
    "sql query\n",
    "\n",
    "begin;\n",
    "\n",
    "create table IF NOT EXISTS customer(\n",
    "\tcustomer_id serial primary key,\n",
    "\tcustomer_name varchar not null,\n",
    "\tcity varchar\n",
    ");\n",
    "\n",
    "create table IF NOT EXISTS customer_order(\n",
    "\torder_id serial primary key,\n",
    "\tcustomer_id integer,\n",
    "\torder_date date,\n",
    "\ttotal_amount decimal,\n",
    "\tforeign key(customer_id) references customer(customer_id)\n",
    ");\n",
    "\n",
    "insert into customer values\n",
    "\t(1, 'John Doe', 'New York'),\n",
    "\t(2, 'Jane Smith', 'Los Angeles'),\n",
    "\t(3, 'David Johnson', 'Chicago');\n",
    "\t\n",
    "insert into customer_order values\n",
    "\t(1, 1, '2022-01-10', 100),\n",
    "\t(2, 1, '2022-02-15', 150),\n",
    "\t(3, 2, '2022-03-20', 200),\n",
    "\t(4, 3, '2022-04-25', 50);\n",
    "\t\n",
    "commit;\n",
    "\n",
    "select c.customer_name, count(co.*)\n",
    "from customer as c\n",
    "join customer_order as co\n",
    "on c.customer_id = co.customer_id\n",
    "group by c.customer_name\n",
    "'''"
   ]
  }
 ],
 "metadata": {
  "language_info": {
   "name": "python"
  }
 },
 "nbformat": 4,
 "nbformat_minor": 2
}
